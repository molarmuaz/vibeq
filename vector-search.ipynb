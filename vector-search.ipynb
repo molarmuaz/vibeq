{
 "cells": [
  {
   "cell_type": "code",
   "id": "initial_id",
   "metadata": {
    "collapsed": true,
    "ExecuteTime": {
     "end_time": "2025-06-01T17:01:33.340226Z",
     "start_time": "2025-06-01T17:01:33.336470Z"
    }
   },
   "source": [
    "from langchain_community.document_loaders import TextLoader #this will convert our descriptions into something langchain can understand\n",
    "from langchain_text_splitters import CharacterTextSplitter # will basically divide the document created into individual descriptions\n",
    "from langchain.embeddings import HuggingFaceEmbeddings # an open source model we will use to convert text into numerical vectors\n",
    "from langchain_chroma import Chroma # a vector database to store our vectors"
   ],
   "outputs": [],
   "execution_count": 2
  },
  {
   "metadata": {},
   "cell_type": "code",
   "outputs": [],
   "execution_count": null,
   "source": "",
   "id": "86599234b84801b"
  }
 ],
 "metadata": {
  "kernelspec": {
   "display_name": "Python 3",
   "language": "python",
   "name": "python3"
  },
  "language_info": {
   "codemirror_mode": {
    "name": "ipython",
    "version": 2
   },
   "file_extension": ".py",
   "mimetype": "text/x-python",
   "name": "python",
   "nbconvert_exporter": "python",
   "pygments_lexer": "ipython2",
   "version": "2.7.6"
  }
 },
 "nbformat": 4,
 "nbformat_minor": 5
}
